{
 "cells": [
  {
   "cell_type": "code",
   "execution_count": 5,
   "id": "fd373c59-73b2-4f7c-b62e-93c1acb36e06",
   "metadata": {},
   "outputs": [
    {
     "name": "stdout",
     "output_type": "stream",
     "text": [
      "1\n",
      "2\n",
      "4\n",
      "5\n",
      "No longer<5\n"
     ]
    }
   ],
   "source": [
    "number = 0\n",
    "while number < 5:\n",
    "    number=number+1\n",
    "    if number == 3:\n",
    "        continue\n",
    "    print(number)\n",
    "else:\n",
    "    print('No longer<5')"
   ]
  },
  {
   "cell_type": "code",
   "execution_count": 8,
   "id": "f12b76b2-b913-4f39-9698-afaa5b8b43fe",
   "metadata": {},
   "outputs": [
    {
     "name": "stdout",
     "output_type": "stream",
     "text": [
      "0\n",
      "1\n",
      "2\n",
      "3\n",
      "4\n",
      "no longer<5\n"
     ]
    }
   ],
   "source": [
    "number = 0\n",
    "while number <5:\n",
    "    print(number)\n",
    "    if number ==6:\n",
    "        break\n",
    "    number=number+1\n",
    "else:\n",
    "    print('no longer<5')"
   ]
  },
  {
   "cell_type": "code",
   "execution_count": 3,
   "id": "30412afe-92c7-4e11-98c6-f17861b70f39",
   "metadata": {},
   "outputs": [],
   "source": [
    "#function\n",
    "def first_func():\n",
    "    print('we did it!')"
   ]
  },
  {
   "cell_type": "code",
   "execution_count": 9,
   "id": "ee7204d7-349c-4a75-af71-8d70fde25ebf",
   "metadata": {},
   "outputs": [
    {
     "name": "stdout",
     "output_type": "stream",
     "text": [
      "we did it!\n"
     ]
    }
   ],
   "source": [
    "first_func()"
   ]
  },
  {
   "cell_type": "code",
   "execution_count": 11,
   "id": "52873a2c-91ba-4385-8aae-3c2579d6fbce",
   "metadata": {},
   "outputs": [],
   "source": [
    "def number_squared(number):\n",
    "    print(number**2)"
   ]
  },
  {
   "cell_type": "code",
   "execution_count": 12,
   "id": "8966f68e-aac8-401d-997d-cb06a5f578bc",
   "metadata": {},
   "outputs": [
    {
     "name": "stdout",
     "output_type": "stream",
     "text": [
      "25\n"
     ]
    }
   ],
   "source": [
    "number_squared(5)"
   ]
  },
  {
   "cell_type": "code",
   "execution_count": 15,
   "id": "2251428a-df20-4875-a596-61c16eb89e9e",
   "metadata": {},
   "outputs": [],
   "source": [
    "def number_squared_cust(number,power):\n",
    "    print(number**power)"
   ]
  },
  {
   "cell_type": "code",
   "execution_count": 17,
   "id": "643671ca-f717-4d8c-9c25-41d412af2090",
   "metadata": {},
   "outputs": [
    {
     "name": "stdout",
     "output_type": "stream",
     "text": [
      "125\n"
     ]
    }
   ],
   "source": [
    "number_squared_cust(5,3)"
   ]
  },
  {
   "cell_type": "code",
   "execution_count": 23,
   "id": "c946e502-22b6-48e4-a0a7-43635cf1e46c",
   "metadata": {},
   "outputs": [],
   "source": [
    "def number_args(*number):\n",
    "    print(number[0]*number[1])"
   ]
  },
  {
   "cell_type": "code",
   "execution_count": 24,
   "id": "3ca9f50a-92f1-4f73-a8d7-aade469c8bde",
   "metadata": {},
   "outputs": [
    {
     "name": "stdout",
     "output_type": "stream",
     "text": [
      "30\n"
     ]
    }
   ],
   "source": [
    "number_args(5,6,1,2,8)"
   ]
  },
  {
   "cell_type": "code",
   "execution_count": 27,
   "id": "7771d7b3-f9e4-4ab2-b9c2-35461603950f",
   "metadata": {},
   "outputs": [],
   "source": [
    "#tuple\n",
    "args_tuple=(5,6,1,2,8)\n",
    "def number_args(*number):\n",
    "    print(number[0]*number[1])"
   ]
  },
  {
   "cell_type": "code",
   "execution_count": 29,
   "id": "3d106d0d-0b4a-4b2e-8b35-58999ffc4291",
   "metadata": {},
   "outputs": [
    {
     "name": "stdout",
     "output_type": "stream",
     "text": [
      "30\n"
     ]
    }
   ],
   "source": [
    "number_args(*args_tuple)"
   ]
  },
  {
   "cell_type": "code",
   "execution_count": 30,
   "id": "3e52d43a-452f-4a38-ac0b-a68022fea818",
   "metadata": {},
   "outputs": [],
   "source": [
    "def number_squared_cust(number,power):\n",
    "    print(number**power)"
   ]
  },
  {
   "cell_type": "code",
   "execution_count": 31,
   "id": "fd702762-e22c-48f0-a8bd-60b32dec1b04",
   "metadata": {},
   "outputs": [
    {
     "name": "stdout",
     "output_type": "stream",
     "text": [
      "125\n"
     ]
    }
   ],
   "source": [
    "number_squared_cust(number=5,power=3)"
   ]
  },
  {
   "cell_type": "code",
   "execution_count": 48,
   "id": "d5b8bc95-a524-42a4-9f74-c497e5aab964",
   "metadata": {},
   "outputs": [],
   "source": [
    "def number_kwarg(**number):\n",
    "    print('my number is: '+number['integer'])"
   ]
  },
  {
   "cell_type": "code",
   "execution_count": 49,
   "id": "bf133f96-271f-4703-bacf-5f7cbffb9a64",
   "metadata": {},
   "outputs": [
    {
     "name": "stdout",
     "output_type": "stream",
     "text": [
      "my number is: 2309\n"
     ]
    }
   ],
   "source": [
    " number_kwarg(integer='2309')"
   ]
  },
  {
   "cell_type": "code",
   "execution_count": 53,
   "id": "7477f65e-c4ab-4db9-8b09-a22470aed31b",
   "metadata": {},
   "outputs": [],
   "source": [
    "def number_kwarg(**number):\n",
    "    print('my number is: '+number['integer']+' ,My other number:'+number ['integer2'])"
   ]
  },
  {
   "cell_type": "code",
   "execution_count": 54,
   "id": "c777e0f6-4fd5-4e21-a4af-cc0ed2973214",
   "metadata": {},
   "outputs": [
    {
     "name": "stdout",
     "output_type": "stream",
     "text": [
      "my number is: 2309 ,My other number:345\n"
     ]
    }
   ],
   "source": [
    "number_kwarg(integer='2309',integer2='345')"
   ]
  },
  {
   "cell_type": "code",
   "execution_count": 55,
   "id": "8d70698f-a618-4816-879c-e82163ab5b7b",
   "metadata": {},
   "outputs": [
    {
     "data": {
      "text/plain": [
       "int"
      ]
     },
     "execution_count": 55,
     "metadata": {},
     "output_type": "execute_result"
    }
   ],
   "source": [
    "#converting data types\n",
    "num_int=7\n",
    "type(num_int)"
   ]
  },
  {
   "cell_type": "code",
   "execution_count": 56,
   "id": "31433b72-11cc-4464-8e13-fb7ffeb2867f",
   "metadata": {},
   "outputs": [
    {
     "data": {
      "text/plain": [
       "str"
      ]
     },
     "execution_count": 56,
     "metadata": {},
     "output_type": "execute_result"
    }
   ],
   "source": [
    "num_str='7'\n",
    "type(num_str)"
   ]
  },
  {
   "cell_type": "code",
   "execution_count": 58,
   "id": "574f809c-7f2f-43c3-b7ee-9d8630b3d66a",
   "metadata": {},
   "outputs": [
    {
     "data": {
      "text/plain": [
       "int"
      ]
     },
     "execution_count": 58,
     "metadata": {},
     "output_type": "execute_result"
    }
   ],
   "source": [
    "num_str_con=int(num_str)\n",
    "type(num_str_con)"
   ]
  },
  {
   "cell_type": "code",
   "execution_count": 57,
   "id": "bda025e1-7119-4052-9542-d7a868f7b810",
   "metadata": {},
   "outputs": [
    {
     "ename": "NameError",
     "evalue": "name 'num' is not defined",
     "output_type": "error",
     "traceback": [
      "\u001b[0;31m---------------------------------------------------------------------------\u001b[0m",
      "\u001b[0;31mNameError\u001b[0m                                 Traceback (most recent call last)",
      "Cell \u001b[0;32mIn[57], line 1\u001b[0m\n\u001b[0;32m----> 1\u001b[0m num_sum\u001b[38;5;241m=\u001b[39mnum_int\u001b[38;5;241m+\u001b[39mnum\u001b[38;5;241m+\u001b[39m\u001b[38;5;28mstr\u001b[39m\n",
      "\u001b[0;31mNameError\u001b[0m: name 'num' is not defined"
     ]
    }
   ],
   "source": [
    "#because they are diffent type will no goona work, so we will convert it as above\n",
    "num_sum=num_int+num+str"
   ]
  },
  {
   "cell_type": "code",
   "execution_count": 62,
   "id": "20053959-7fb0-419c-8593-2dbf27b27ccf",
   "metadata": {},
   "outputs": [
    {
     "name": "stdout",
     "output_type": "stream",
     "text": [
      "14\n"
     ]
    }
   ],
   "source": [
    "num_sum=num_int+num_str_con\n",
    "print(num_sum)"
   ]
  },
  {
   "cell_type": "code",
   "execution_count": 63,
   "id": "848228d0-fb45-4681-adcd-7f443d4e7580",
   "metadata": {},
   "outputs": [
    {
     "data": {
      "text/plain": [
       "list"
      ]
     },
     "execution_count": 63,
     "metadata": {},
     "output_type": "execute_result"
    }
   ],
   "source": [
    "list_type=[1,2,3]\n",
    "type(list_type)"
   ]
  },
  {
   "cell_type": "code",
   "execution_count": 64,
   "id": "1e6be380-8223-48f6-8507-04cd0d89bc4f",
   "metadata": {},
   "outputs": [
    {
     "data": {
      "text/plain": [
       "tuple"
      ]
     },
     "execution_count": 64,
     "metadata": {},
     "output_type": "execute_result"
    }
   ],
   "source": [
    "type(tuple(list_type))"
   ]
  },
  {
   "cell_type": "code",
   "execution_count": null,
   "id": "03fb0af8-0252-44bd-b8b2-44836f32080e",
   "metadata": {},
   "outputs": [],
   "source": [
    "list_type=[1,2,3,3,2,1,2,3,2,1]"
   ]
  },
  {
   "cell_type": "code",
   "execution_count": 66,
   "id": "50d62f92-6ecb-4a3e-bcc3-ca4bacab695b",
   "metadata": {},
   "outputs": [
    {
     "data": {
      "text/plain": [
       "{1, 2, 3}"
      ]
     },
     "execution_count": 66,
     "metadata": {},
     "output_type": "execute_result"
    }
   ],
   "source": [
    "#set take the uniqe values and put it into a list\n",
    "set(list_type)"
   ]
  },
  {
   "cell_type": "code",
   "execution_count": 69,
   "id": "f2bc0c39-b588-41de-9d39-287ddfba67e2",
   "metadata": {},
   "outputs": [
    {
     "data": {
      "text/plain": [
       "set"
      ]
     },
     "execution_count": 69,
     "metadata": {},
     "output_type": "execute_result"
    }
   ],
   "source": [
    "type(set(list_type))"
   ]
  },
  {
   "cell_type": "code",
   "execution_count": 70,
   "id": "fd510bda-81b0-456e-8858-da501780cc55",
   "metadata": {},
   "outputs": [
    {
     "data": {
      "text/plain": [
       "dict"
      ]
     },
     "execution_count": 70,
     "metadata": {},
     "output_type": "execute_result"
    }
   ],
   "source": [
    "dict_type={'name':'hana','age':35,'hair':'NA'}\n",
    "type(dict_type)"
   ]
  },
  {
   "cell_type": "code",
   "execution_count": 71,
   "id": "43655346-30a1-4f58-9939-e51d8eef37e2",
   "metadata": {},
   "outputs": [
    {
     "data": {
      "text/plain": [
       "dict_items([('name', 'hana'), ('age', 35), ('hair', 'NA')])"
      ]
     },
     "execution_count": 71,
     "metadata": {},
     "output_type": "execute_result"
    }
   ],
   "source": [
    "dict_type.items()"
   ]
  },
  {
   "cell_type": "code",
   "execution_count": 72,
   "id": "4ab624ba-0aaf-41a6-93b1-55270077bc51",
   "metadata": {},
   "outputs": [
    {
     "data": {
      "text/plain": [
       "dict_values(['hana', 35, 'NA'])"
      ]
     },
     "execution_count": 72,
     "metadata": {},
     "output_type": "execute_result"
    }
   ],
   "source": [
    "dict_type.values()"
   ]
  },
  {
   "cell_type": "code",
   "execution_count": 73,
   "id": "2b38c87a-8dcd-4035-94a2-fac7bb5a5a68",
   "metadata": {},
   "outputs": [
    {
     "data": {
      "text/plain": [
       "dict_keys(['name', 'age', 'hair'])"
      ]
     },
     "execution_count": 73,
     "metadata": {},
     "output_type": "execute_result"
    }
   ],
   "source": [
    "dict_type.keys()"
   ]
  },
  {
   "cell_type": "code",
   "execution_count": 74,
   "id": "19441fb0-2fbe-4f4a-a392-1724463c6e8e",
   "metadata": {},
   "outputs": [
    {
     "data": {
      "text/plain": [
       "['name', 'age', 'hair']"
      ]
     },
     "execution_count": 74,
     "metadata": {},
     "output_type": "execute_result"
    }
   ],
   "source": [
    "list(dict_type.keys())"
   ]
  },
  {
   "cell_type": "code",
   "execution_count": 76,
   "id": "56d10ab9-db25-433a-8809-d442f1a169d5",
   "metadata": {},
   "outputs": [
    {
     "data": {
      "text/plain": [
       "list"
      ]
     },
     "execution_count": 76,
     "metadata": {},
     "output_type": "execute_result"
    }
   ],
   "source": [
    "type(list(dict_type.keys()))"
   ]
  },
  {
   "cell_type": "code",
   "execution_count": 77,
   "id": "04438b11-fbef-48d8-bfd0-6fa8a713e6e1",
   "metadata": {},
   "outputs": [
    {
     "data": {
      "text/plain": [
       "['hana', 35, 'NA']"
      ]
     },
     "execution_count": 77,
     "metadata": {},
     "output_type": "execute_result"
    }
   ],
   "source": [
    "list(dict_type.values())"
   ]
  },
  {
   "cell_type": "code",
   "execution_count": 78,
   "id": "126f8ffe-9aac-4517-b75a-5104d18ca431",
   "metadata": {},
   "outputs": [
    {
     "data": {
      "text/plain": [
       "list"
      ]
     },
     "execution_count": 78,
     "metadata": {},
     "output_type": "execute_result"
    }
   ],
   "source": [
    "type(list(dict_type.values()))"
   ]
  },
  {
   "cell_type": "code",
   "execution_count": 79,
   "id": "45b79b59-96d1-40f0-9918-9217ccb8c4f3",
   "metadata": {},
   "outputs": [
    {
     "data": {
      "text/plain": [
       "['i', ' ', 'l', 'i', 'k', 'e', ' ', 't', 'o', ' ', 'p', 'a', 'r', 't', 'y']"
      ]
     },
     "execution_count": 79,
     "metadata": {},
     "output_type": "execute_result"
    }
   ],
   "source": [
    "long_str=\"i like to party\"\n",
    "list (long_str)"
   ]
  },
  {
   "cell_type": "code",
   "execution_count": 80,
   "id": "e1154ba0-cf4a-4823-8836-eaad4dac2bf7",
   "metadata": {},
   "outputs": [
    {
     "data": {
      "text/plain": [
       "{' ', 'a', 'e', 'i', 'k', 'l', 'o', 'p', 'r', 't', 'y'}"
      ]
     },
     "execution_count": 80,
     "metadata": {},
     "output_type": "execute_result"
    }
   ],
   "source": [
    "set (long_str)"
   ]
  },
  {
   "cell_type": "code",
   "execution_count": null,
   "id": "2e662f9a-d14e-40e2-9142-6185b6de4ea5",
   "metadata": {},
   "outputs": [],
   "source": []
  }
 ],
 "metadata": {
  "kernelspec": {
   "display_name": "Python 3 (ipykernel)",
   "language": "python",
   "name": "python3"
  },
  "language_info": {
   "codemirror_mode": {
    "name": "ipython",
    "version": 3
   },
   "file_extension": ".py",
   "mimetype": "text/x-python",
   "name": "python",
   "nbconvert_exporter": "python",
   "pygments_lexer": "ipython3",
   "version": "3.11.7"
  }
 },
 "nbformat": 4,
 "nbformat_minor": 5
}
