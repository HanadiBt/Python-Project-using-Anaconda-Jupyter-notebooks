{
 "cells": [
  {
   "cell_type": "code",
   "execution_count": 1,
   "id": "ffa0bd76-40ad-4eda-bf4e-061fea53e11d",
   "metadata": {},
   "outputs": [
    {
     "name": "stdout",
     "output_type": "stream",
     "text": [
      "hello world\n"
     ]
    }
   ],
   "source": [
    "print('hello world')"
   ]
  },
  {
   "cell_type": "markdown",
   "id": "1f8dfe6e-5002-47ba-a5bc-88275f83ecbf",
   "metadata": {},
   "source": [
    "#hello"
   ]
  },
  {
   "cell_type": "code",
   "execution_count": 15,
   "id": "1c23d1d6-9882-4641-867e-3025f927e6ea",
   "metadata": {},
   "outputs": [],
   "source": [
    "#variables"
   ]
  },
  {
   "cell_type": "code",
   "execution_count": 3,
   "id": "76b01b9e-af71-47a8-ae52-5ff2ee824dbf",
   "metadata": {},
   "outputs": [
    {
     "data": {
      "text/plain": [
       "int"
      ]
     },
     "execution_count": 3,
     "metadata": {},
     "output_type": "execute_result"
    }
   ],
   "source": [
    "type(x)"
   ]
  },
  {
   "cell_type": "code",
   "execution_count": 4,
   "id": "8ae936af",
   "metadata": {},
   "outputs": [
    {
     "data": {
      "text/plain": [
       "str"
      ]
     },
     "execution_count": 4,
     "metadata": {},
     "output_type": "execute_result"
    }
   ],
   "source": [
    "y='hanadi'\n",
    "type(y)"
   ]
  },
  {
   "cell_type": "code",
   "execution_count": 8,
   "id": "00b6c87a-e35e-4d26-b9bc-1d53aba01212",
   "metadata": {},
   "outputs": [
    {
     "name": "stdout",
     "output_type": "stream",
     "text": [
      "hanadi\n",
      "jamal\n",
      "bitar\n"
     ]
    }
   ],
   "source": [
    "x,y,z = 'hanadi','jamal','bitar'\n",
    "print(x)\n",
    "print(y)\n",
    "print(z)"
   ]
  },
  {
   "cell_type": "code",
   "execution_count": 9,
   "id": "80a4e7bc-3f26-4cda-b03d-d0e9b7b72eae",
   "metadata": {},
   "outputs": [
    {
     "name": "stdout",
     "output_type": "stream",
     "text": [
      "hanadi\n",
      "jamal\n",
      "bitar\n"
     ]
    }
   ],
   "source": [
    "x,y,z='hanadi','jamal','bitar'\n",
    "print(x)\n",
    "print(y)\n",
    "print(z)"
   ]
  },
  {
   "cell_type": "code",
   "execution_count": 10,
   "id": "965fc093-4eb9-46dd-a6f6-93a4ca2d0794",
   "metadata": {},
   "outputs": [
    {
     "name": "stdout",
     "output_type": "stream",
     "text": [
      "hanadi jamal bitar\n"
     ]
    }
   ],
   "source": [
    "x=y=z='hanadi jamal bitar'\n",
    "print(x)"
   ]
  },
  {
   "cell_type": "code",
   "execution_count": 11,
   "id": "9eb57c47-1023-42cf-9bc8-88591e304c2f",
   "metadata": {},
   "outputs": [
    {
     "name": "stdout",
     "output_type": "stream",
     "text": [
      "hanadi jamal bitar\n"
     ]
    }
   ],
   "source": [
    "print(y)"
   ]
  },
  {
   "cell_type": "code",
   "execution_count": 12,
   "id": "1bbbd789-5175-4d08-9abc-3667fc2e062a",
   "metadata": {},
   "outputs": [
    {
     "name": "stdout",
     "output_type": "stream",
     "text": [
      "['chocolate', 'vanilla', 'cream']\n"
     ]
    }
   ],
   "source": [
    "ice_cream=['chocolate','vanilla','cream']\n",
    "x=ice_cream\n",
    "print(x)"
   ]
  },
  {
   "cell_type": "code",
   "execution_count": 18,
   "id": "0858b818-5b65-4c93-b5f2-5eafbfabb500",
   "metadata": {},
   "outputs": [
    {
     "name": "stdout",
     "output_type": "stream",
     "text": [
      "Icecream is yummy\n"
     ]
    }
   ],
   "source": [
    "x='Icecream'\n",
    "y=' is'\n",
    "z=' yummy'\n",
    "print(x+y+z)"
   ]
  },
  {
   "cell_type": "code",
   "execution_count": 19,
   "id": "17b2245a-01e9-4c6b-b621-f8fa18a8095f",
   "metadata": {},
   "outputs": [
    {
     "name": "stdout",
     "output_type": "stream",
     "text": [
      " yummy\n"
     ]
    }
   ],
   "source": [
    "print(z)"
   ]
  },
  {
   "cell_type": "code",
   "execution_count": 20,
   "id": "3a4763b0-3544-4f5b-a210-98889dbb05df",
   "metadata": {},
   "outputs": [
    {
     "data": {
      "text/plain": [
       "int"
      ]
     },
     "execution_count": 20,
     "metadata": {},
     "output_type": "execute_result"
    }
   ],
   "source": [
    "#data type\n",
    "\n",
    "type(-12+100)"
   ]
  },
  {
   "cell_type": "code",
   "execution_count": 21,
   "id": "f88bf4f1-7cfc-41be-a8e9-85a9a513c914",
   "metadata": {},
   "outputs": [
    {
     "data": {
      "text/plain": [
       "float"
      ]
     },
     "execution_count": 21,
     "metadata": {},
     "output_type": "execute_result"
    }
   ],
   "source": [
    "type(10.3)"
   ]
  },
  {
   "cell_type": "code",
   "execution_count": 22,
   "id": "8c86900d-2253-4d9a-9c7a-83846e3c9c13",
   "metadata": {},
   "outputs": [
    {
     "data": {
      "text/plain": [
       "complex"
      ]
     },
     "execution_count": 22,
     "metadata": {},
     "output_type": "execute_result"
    }
   ],
   "source": [
    "type(3j)"
   ]
  },
  {
   "cell_type": "code",
   "execution_count": 27,
   "id": "503d3cc2-84dd-4a4a-819b-b4df78c6a38e",
   "metadata": {},
   "outputs": [
    {
     "data": {
      "text/plain": [
       "bool"
      ]
     },
     "execution_count": 27,
     "metadata": {},
     "output_type": "execute_result"
    }
   ],
   "source": [
    "#boolean\n",
    "\n",
    "type(True)"
   ]
  },
  {
   "cell_type": "code",
   "execution_count": 28,
   "id": "ae1cce67-c757-4fae-928b-70d73dcef5d3",
   "metadata": {},
   "outputs": [
    {
     "data": {
      "text/plain": [
       "bool"
      ]
     },
     "execution_count": 28,
     "metadata": {},
     "output_type": "execute_result"
    }
   ],
   "source": [
    "type(False)"
   ]
  },
  {
   "cell_type": "code",
   "execution_count": 29,
   "id": "d02305da-be2a-40c8-a0a1-89cac947550e",
   "metadata": {},
   "outputs": [
    {
     "data": {
      "text/plain": [
       "False"
      ]
     },
     "execution_count": 29,
     "metadata": {},
     "output_type": "execute_result"
    }
   ],
   "source": [
    "1>2"
   ]
  },
  {
   "cell_type": "code",
   "execution_count": 30,
   "id": "0c65ab60-be1d-4da9-9391-ac451b2b5bee",
   "metadata": {},
   "outputs": [
    {
     "data": {
      "text/plain": [
       "bool"
      ]
     },
     "execution_count": 30,
     "metadata": {},
     "output_type": "execute_result"
    }
   ],
   "source": [
    "type(1>2)"
   ]
  },
  {
   "cell_type": "code",
   "execution_count": 31,
   "id": "7d9eb39d-0a46-40e1-ae8e-633655213213",
   "metadata": {},
   "outputs": [
    {
     "data": {
      "text/plain": [
       "'I have a car'"
      ]
     },
     "execution_count": 31,
     "metadata": {},
     "output_type": "execute_result"
    }
   ],
   "source": [
    "#use quoting\n",
    "\n",
    "'I have a car'"
   ]
  },
  {
   "cell_type": "code",
   "execution_count": 35,
   "id": "4d304bf9-8de1-4022-bcfb-400e16259cb3",
   "metadata": {},
   "outputs": [],
   "source": [
    "#'I've a car' this is wrong we need to use instead\n",
    "x= \"I've a car\""
   ]
  },
  {
   "cell_type": "code",
   "execution_count": 36,
   "id": "9153fd27-8b8f-4bca-9071-91c41c2a791e",
   "metadata": {},
   "outputs": [
    {
     "data": {
      "text/plain": [
       "str"
      ]
     },
     "execution_count": 36,
     "metadata": {},
     "output_type": "execute_result"
    }
   ],
   "source": [
    "type(x)"
   ]
  },
  {
   "cell_type": "code",
   "execution_count": 38,
   "id": "2dc8a25b-3489-4fe8-ab0e-fa0f53278b28",
   "metadata": {},
   "outputs": [
    {
     "name": "stdout",
     "output_type": "stream",
     "text": [
      "Hello\n"
     ]
    }
   ],
   "source": [
    "a='Hello world'\n",
    "print(a[:5])"
   ]
  },
  {
   "cell_type": "code",
   "execution_count": 39,
   "id": "f30927ed-3248-4eae-86cd-e3b8110eb400",
   "metadata": {},
   "outputs": [
    {
     "name": "stdout",
     "output_type": "stream",
     "text": [
      "e\n"
     ]
    }
   ],
   "source": [
    "print(a[1])"
   ]
  },
  {
   "cell_type": "code",
   "execution_count": 40,
   "id": "8bf81d9b-369f-48d4-a14f-e23a09511b46",
   "metadata": {},
   "outputs": [
    {
     "name": "stdout",
     "output_type": "stream",
     "text": [
      " \n"
     ]
    }
   ],
   "source": [
    "print(a[5])"
   ]
  },
  {
   "cell_type": "code",
   "execution_count": 48,
   "id": "4bd77ce8-41c4-4546-b1fd-be5fdea418a4",
   "metadata": {},
   "outputs": [
    {
     "name": "stdout",
     "output_type": "stream",
     "text": [
      "Hello worl\n"
     ]
    }
   ],
   "source": [
    "print(a[0:-1])"
   ]
  },
  {
   "cell_type": "code",
   "execution_count": 49,
   "id": "aefe6d0f-913f-4b38-bbce-2191f911232f",
   "metadata": {},
   "outputs": [
    {
     "data": {
      "text/plain": [
       "'Hello worldHello worldHello world'"
      ]
     },
     "execution_count": 49,
     "metadata": {},
     "output_type": "execute_result"
    }
   ],
   "source": [
    "a*3"
   ]
  },
  {
   "cell_type": "code",
   "execution_count": 50,
   "id": "b8a586c9-22f8-49e5-87ec-0886d689ac96",
   "metadata": {},
   "outputs": [
    {
     "name": "stdout",
     "output_type": "stream",
     "text": [
      "Hello worldHello worldHello world\n"
     ]
    }
   ],
   "source": [
    "print(a*3)"
   ]
  },
  {
   "cell_type": "code",
   "execution_count": 51,
   "id": "5c0d8d1b-7c4b-4860-8930-678e02d5857d",
   "metadata": {},
   "outputs": [
    {
     "data": {
      "text/plain": [
       "'Hello worldHello world'"
      ]
     },
     "execution_count": 51,
     "metadata": {},
     "output_type": "execute_result"
    }
   ],
   "source": [
    "a+a"
   ]
  },
  {
   "cell_type": "code",
   "execution_count": 52,
   "id": "e8027a09-2b1c-4b67-8bbb-f79c1a0374dc",
   "metadata": {},
   "outputs": [
    {
     "data": {
      "text/plain": [
       "[1, 2, 3]"
      ]
     },
     "execution_count": 52,
     "metadata": {},
     "output_type": "execute_result"
    }
   ],
   "source": [
    "#list\n",
    "[1,2,3]"
   ]
  },
  {
   "cell_type": "code",
   "execution_count": 53,
   "id": "46122933-3eb2-4b21-b47b-4c0d3ad936f1",
   "metadata": {},
   "outputs": [
    {
     "data": {
      "text/plain": [
       "['strawberry', 'vanilla', 'coffee']"
      ]
     },
     "execution_count": 53,
     "metadata": {},
     "output_type": "execute_result"
    }
   ],
   "source": [
    "['strawberry','vanilla','coffee']"
   ]
  },
  {
   "cell_type": "code",
   "execution_count": 61,
   "id": "c6857b6d-5ed2-4ec5-b64f-3d56a3c2668b",
   "metadata": {},
   "outputs": [
    {
     "data": {
      "text/plain": [
       "['strawberry', 'vanilla', 'coffee']"
      ]
     },
     "execution_count": 61,
     "metadata": {},
     "output_type": "execute_result"
    }
   ],
   "source": [
    "ice_cream=['strawberry','vanilla','coffee']\n",
    "ice_cream"
   ]
  },
  {
   "cell_type": "code",
   "execution_count": 63,
   "id": "8ba2fdd4-e872-4000-8c15-c3de445d38b4",
   "metadata": {},
   "outputs": [
    {
     "data": {
      "text/plain": [
       "['strawberry', 'vanilla', 'coffee', 'salted caramel']"
      ]
     },
     "execution_count": 63,
     "metadata": {},
     "output_type": "execute_result"
    }
   ],
   "source": [
    "ice_cream.append('salted caramel')\n",
    "\n",
    "ice_cream"
   ]
  },
  {
   "cell_type": "code",
   "execution_count": 64,
   "id": "6f0188ff-0947-4215-8763-653d878bbeb8",
   "metadata": {},
   "outputs": [
    {
     "data": {
      "text/plain": [
       "['butter pecan', 'vanilla', 'coffee', 'salted caramel']"
      ]
     },
     "execution_count": 64,
     "metadata": {},
     "output_type": "execute_result"
    }
   ],
   "source": [
    "ice_cream[0]='butter pecan'\n",
    "\n",
    "ice_cream"
   ]
  },
  {
   "cell_type": "code",
   "execution_count": 68,
   "id": "40f3579e-a629-4283-bc78-406860a4f124",
   "metadata": {},
   "outputs": [
    {
     "data": {
      "text/plain": [
       "'butter pecan'"
      ]
     },
     "execution_count": 68,
     "metadata": {},
     "output_type": "execute_result"
    }
   ],
   "source": [
    "#nested_list\n",
    "nest_list=['butter pecan', ['vanilla', 'coffee'], 'salted caramel']\n",
    "nest_list[0]"
   ]
  },
  {
   "cell_type": "code",
   "execution_count": 70,
   "id": "1ab3c811-2497-4fab-abef-2ba6974f4f4b",
   "metadata": {},
   "outputs": [
    {
     "data": {
      "text/plain": [
       "['vanilla', 'coffee']"
      ]
     },
     "execution_count": 70,
     "metadata": {},
     "output_type": "execute_result"
    }
   ],
   "source": [
    "nest_list [1]"
   ]
  },
  {
   "cell_type": "code",
   "execution_count": 71,
   "id": "bbc88103-a8b4-4190-8d87-71d024697e98",
   "metadata": {},
   "outputs": [
    {
     "data": {
      "text/plain": [
       "tuple"
      ]
     },
     "execution_count": 71,
     "metadata": {},
     "output_type": "execute_result"
    }
   ],
   "source": [
    "#tuple: they used usualy for data that no goona change, we can't add append to it,has no attribute \n",
    "tuple_scoop=(1,2,3,4,7)\n",
    "type(tuple_scoop)"
   ]
  },
  {
   "cell_type": "code",
   "execution_count": 72,
   "id": "a1ee0b0e-5b8b-4bab-8815-682f98c5b368",
   "metadata": {},
   "outputs": [
    {
     "data": {
      "text/plain": [
       "2"
      ]
     },
     "execution_count": 72,
     "metadata": {},
     "output_type": "execute_result"
    }
   ],
   "source": [
    "tuple_scoop[1]"
   ]
  },
  {
   "cell_type": "code",
   "execution_count": 74,
   "id": "ee3a0de0-96bd-4b61-9f19-f87cd865738c",
   "metadata": {},
   "outputs": [
    {
     "name": "stdout",
     "output_type": "stream",
     "text": [
      "{1, 2, 3}\n"
     ]
    }
   ],
   "source": [
    "# sets: \n",
    "daily_pints={1,2,3}\n",
    "print(daily_pints)"
   ]
  },
  {
   "cell_type": "code",
   "execution_count": 75,
   "id": "d4d40e55-edbb-482b-a477-172073b15389",
   "metadata": {},
   "outputs": [
    {
     "data": {
      "text/plain": [
       "set"
      ]
     },
     "execution_count": 75,
     "metadata": {},
     "output_type": "execute_result"
    }
   ],
   "source": [
    "type(daily_pints)"
   ]
  },
  {
   "cell_type": "code",
   "execution_count": 77,
   "id": "dd834169-9001-43ff-b1b7-32e0cbbbc0ac",
   "metadata": {},
   "outputs": [
    {
     "name": "stdout",
     "output_type": "stream",
     "text": [
      "{1, 2, 3, 4, 5, 31}\n"
     ]
    }
   ],
   "source": [
    "daily_pints1={1,2,3,4,5,31}\n",
    "print(daily_pints|daily_pints1)"
   ]
  },
  {
   "cell_type": "code",
   "execution_count": 80,
   "id": "4cc34157-3c2d-4339-9c15-059b63abd43c",
   "metadata": {},
   "outputs": [
    {
     "name": "stdout",
     "output_type": "stream",
     "text": [
      "{1, 2, 3}\n"
     ]
    }
   ],
   "source": [
    "print(daily_pints&daily_pints1)"
   ]
  },
  {
   "cell_type": "code",
   "execution_count": 81,
   "id": "609b1f95-b0d6-409b-9f69-001d50d60188",
   "metadata": {},
   "outputs": [
    {
     "name": "stdout",
     "output_type": "stream",
     "text": [
      "set()\n"
     ]
    }
   ],
   "source": [
    "print(daily_pints-daily_pints1)"
   ]
  },
  {
   "cell_type": "code",
   "execution_count": 82,
   "id": "a3029640-ef03-4031-b536-7cd397546c13",
   "metadata": {},
   "outputs": [
    {
     "name": "stdout",
     "output_type": "stream",
     "text": [
      "{4, 5, 31}\n"
     ]
    }
   ],
   "source": [
    "print(daily_pints1-daily_pints)"
   ]
  },
  {
   "cell_type": "code",
   "execution_count": 83,
   "id": "01c1a086-a3e1-4ee2-ab40-49f0f9eba662",
   "metadata": {},
   "outputs": [
    {
     "name": "stdout",
     "output_type": "stream",
     "text": [
      "{4, 5, 31}\n"
     ]
    }
   ],
   "source": [
    "print(daily_pints1^daily_pints)"
   ]
  },
  {
   "cell_type": "code",
   "execution_count": 87,
   "id": "085602dd-8707-4806-af2d-2adb310417c0",
   "metadata": {},
   "outputs": [],
   "source": [
    "#dictionaries\n",
    "#key/value pair\n",
    "dict_cream={'name':'hanadi bitar','weekly intake':5,'favorite icecream':['mac','chocolate']}"
   ]
  },
  {
   "cell_type": "code",
   "execution_count": 88,
   "id": "18483bc0-a7d5-4bbc-8827-6ea4b8a06fc7",
   "metadata": {},
   "outputs": [
    {
     "data": {
      "text/plain": [
       "dict"
      ]
     },
     "execution_count": 88,
     "metadata": {},
     "output_type": "execute_result"
    }
   ],
   "source": [
    "type(dict_cream)"
   ]
  },
  {
   "cell_type": "code",
   "execution_count": 89,
   "id": "a2cb6f35-19c7-474d-8481-48947a98abef",
   "metadata": {},
   "outputs": [
    {
     "name": "stdout",
     "output_type": "stream",
     "text": [
      "{'name': 'hanadi bitar', 'weekly intake': 5, 'favorite icecream': ['mac', 'chocolate']}\n"
     ]
    }
   ],
   "source": [
    "print(dict_cream)"
   ]
  },
  {
   "cell_type": "code",
   "execution_count": 91,
   "id": "fe8a03b5-6f5d-4e56-af9d-fc2e5c8ef2a0",
   "metadata": {},
   "outputs": [
    {
     "data": {
      "text/plain": [
       "dict_values(['hanadi bitar', 5, ['mac', 'chocolate']])"
      ]
     },
     "execution_count": 91,
     "metadata": {},
     "output_type": "execute_result"
    }
   ],
   "source": [
    "dict_cream.values()"
   ]
  },
  {
   "cell_type": "code",
   "execution_count": 92,
   "id": "49580de0-ce2e-4d89-83c8-b4eeecb5d138",
   "metadata": {},
   "outputs": [
    {
     "data": {
      "text/plain": [
       "dict_keys(['name', 'weekly intake', 'favorite icecream'])"
      ]
     },
     "execution_count": 92,
     "metadata": {},
     "output_type": "execute_result"
    }
   ],
   "source": [
    "dict_cream.keys()"
   ]
  },
  {
   "cell_type": "code",
   "execution_count": 93,
   "id": "a4ab037a-38db-4918-b8f2-b3d88fc43962",
   "metadata": {},
   "outputs": [
    {
     "data": {
      "text/plain": [
       "dict_items([('name', 'hanadi bitar'), ('weekly intake', 5), ('favorite icecream', ['mac', 'chocolate'])])"
      ]
     },
     "execution_count": 93,
     "metadata": {},
     "output_type": "execute_result"
    }
   ],
   "source": [
    "dict_cream.items()"
   ]
  },
  {
   "cell_type": "code",
   "execution_count": 94,
   "id": "192baed4-828e-4418-a0cf-7d4b0442a1e1",
   "metadata": {},
   "outputs": [
    {
     "name": "stdout",
     "output_type": "stream",
     "text": [
      "{'name': 'aram', 'weekly intake': 5, 'favorite icecream': ['mac', 'chocolate']}\n"
     ]
    }
   ],
   "source": [
    "dict_cream['name']='aram'\n",
    "print(dict_cream)"
   ]
  },
  {
   "cell_type": "code",
   "execution_count": 97,
   "id": "8e41eab1-1f30-4ab7-a0f6-9b65cd089fb5",
   "metadata": {},
   "outputs": [],
   "source": [
    "dict_cream.update({'name': 'aram', 'weekly intake': 5, 'weight': 300})\n"
   ]
  },
  {
   "cell_type": "code",
   "execution_count": 98,
   "id": "769f59a5-2ed8-454e-829c-ac4258c8bcc0",
   "metadata": {},
   "outputs": [
    {
     "name": "stdout",
     "output_type": "stream",
     "text": [
      "{'name': 'aram', 'weekly intake': 5, 'favorite icecream': ['mac', 'chocolate'], 'weight': 300}\n"
     ]
    }
   ],
   "source": [
    "print(dict_cream)"
   ]
  },
  {
   "cell_type": "code",
   "execution_count": 99,
   "id": "b1670281-c7b1-4c9f-8e2a-a3493508fd2a",
   "metadata": {},
   "outputs": [],
   "source": [
    "del dict_cream['weight']"
   ]
  },
  {
   "cell_type": "code",
   "execution_count": 100,
   "id": "e156a23c-99f1-4899-96f4-4d499219b946",
   "metadata": {},
   "outputs": [
    {
     "name": "stdout",
     "output_type": "stream",
     "text": [
      "{'name': 'aram', 'weekly intake': 5, 'favorite icecream': ['mac', 'chocolate']}\n"
     ]
    }
   ],
   "source": [
    "print(dict_cream)"
   ]
  },
  {
   "cell_type": "code",
   "execution_count": 101,
   "id": "c08e52c3-8691-41b3-9f93-657c7044cf07",
   "metadata": {},
   "outputs": [
    {
     "data": {
      "text/plain": [
       "True"
      ]
     },
     "execution_count": 101,
     "metadata": {},
     "output_type": "execute_result"
    }
   ],
   "source": [
    "#comparison operators\n",
    "10==10"
   ]
  },
  {
   "cell_type": "code",
   "execution_count": 102,
   "id": "31ee0496-58cf-4215-919e-629d8d884044",
   "metadata": {},
   "outputs": [
    {
     "data": {
      "text/plain": [
       "False"
      ]
     },
     "execution_count": 102,
     "metadata": {},
     "output_type": "execute_result"
    }
   ],
   "source": [
    "10==50"
   ]
  },
  {
   "cell_type": "code",
   "execution_count": 103,
   "id": "c172ca96-bfbd-4b78-8e38-58656c664a0c",
   "metadata": {},
   "outputs": [
    {
     "data": {
      "text/plain": [
       "False"
      ]
     },
     "execution_count": 103,
     "metadata": {},
     "output_type": "execute_result"
    }
   ],
   "source": [
    "x='vanilla'\n",
    "y='chocolate'\n",
    "x==y"
   ]
  },
  {
   "cell_type": "code",
   "execution_count": 104,
   "id": "956c38a4-cf54-4636-bf2a-36e35d567b33",
   "metadata": {},
   "outputs": [
    {
     "data": {
      "text/plain": [
       "True"
      ]
     },
     "execution_count": 104,
     "metadata": {},
     "output_type": "execute_result"
    }
   ],
   "source": [
    "x!=y"
   ]
  },
  {
   "cell_type": "code",
   "execution_count": 105,
   "id": "379667ce-2466-491d-bf6e-e4360c030fa0",
   "metadata": {},
   "outputs": [
    {
     "data": {
      "text/plain": [
       "True"
      ]
     },
     "execution_count": 105,
     "metadata": {},
     "output_type": "execute_result"
    }
   ],
   "source": [
    "10<50"
   ]
  },
  {
   "cell_type": "code",
   "execution_count": 106,
   "id": "9977e418-ce2b-4558-8792-2518ef2e717a",
   "metadata": {},
   "outputs": [
    {
     "data": {
      "text/plain": [
       "False"
      ]
     },
     "execution_count": 106,
     "metadata": {},
     "output_type": "execute_result"
    }
   ],
   "source": [
    "10<10"
   ]
  },
  {
   "cell_type": "code",
   "execution_count": 107,
   "id": "df9520c3-eea0-460a-bee8-7411c198ea75",
   "metadata": {},
   "outputs": [
    {
     "data": {
      "text/plain": [
       "True"
      ]
     },
     "execution_count": 107,
     "metadata": {},
     "output_type": "execute_result"
    }
   ],
   "source": [
    "10<=10"
   ]
  },
  {
   "cell_type": "code",
   "execution_count": 109,
   "id": "ef2af433-3c7f-4b23-9c07-c8291ab4860e",
   "metadata": {},
   "outputs": [
    {
     "data": {
      "text/plain": [
       "True"
      ]
     },
     "execution_count": 109,
     "metadata": {},
     "output_type": "execute_result"
    }
   ],
   "source": [
    "10>=10"
   ]
  },
  {
   "cell_type": "code",
   "execution_count": 110,
   "id": "f35479bd-8533-4781-b7a9-08941cd6de76",
   "metadata": {},
   "outputs": [
    {
     "data": {
      "text/plain": [
       "False"
      ]
     },
     "execution_count": 110,
     "metadata": {},
     "output_type": "execute_result"
    }
   ],
   "source": [
    "(10>50) and (10<50)"
   ]
  },
  {
   "cell_type": "code",
   "execution_count": 111,
   "id": "a96a3ce6-2fcb-4e6e-b8c9-f1f73b91641f",
   "metadata": {},
   "outputs": [
    {
     "data": {
      "text/plain": [
       "True"
      ]
     },
     "execution_count": 111,
     "metadata": {},
     "output_type": "execute_result"
    }
   ],
   "source": [
    "(10>50) or (10<50)"
   ]
  },
  {
   "cell_type": "code",
   "execution_count": 112,
   "id": "46ec472a-daf7-40af-89ee-52c36125f795",
   "metadata": {},
   "outputs": [
    {
     "data": {
      "text/plain": [
       "True"
      ]
     },
     "execution_count": 112,
     "metadata": {},
     "output_type": "execute_result"
    }
   ],
   "source": [
    "('vanilla'>'chocolate') or (10>50)"
   ]
  },
  {
   "cell_type": "code",
   "execution_count": 113,
   "id": "c21f3da3-e25c-4318-95e8-8a52eb85d4d3",
   "metadata": {},
   "outputs": [
    {
     "data": {
      "text/plain": [
       "False"
      ]
     },
     "execution_count": 113,
     "metadata": {},
     "output_type": "execute_result"
    }
   ],
   "source": [
    "('vanilla'>'chocolate') and (10>50)"
   ]
  },
  {
   "cell_type": "code",
   "execution_count": 114,
   "id": "b0a006cc-53eb-4d78-a9f7-e62cb215072d",
   "metadata": {},
   "outputs": [
    {
     "data": {
      "text/plain": [
       "True"
      ]
     },
     "execution_count": 114,
     "metadata": {},
     "output_type": "execute_result"
    }
   ],
   "source": [
    "('vanilla'>'chocolate') and (10<50)"
   ]
  },
  {
   "cell_type": "code",
   "execution_count": 115,
   "id": "db864399-9dd3-4081-8a6d-358bb1358867",
   "metadata": {},
   "outputs": [
    {
     "data": {
      "text/plain": [
       "True"
      ]
     },
     "execution_count": 115,
     "metadata": {},
     "output_type": "execute_result"
    }
   ],
   "source": [
    "ice_cream='I love chocolate ice cream'\n",
    "'love' in 'I love chocolate ice cream'"
   ]
  },
  {
   "cell_type": "code",
   "execution_count": 116,
   "id": "19cddf24-8ee8-44b1-84d0-d93a2d8ed1de",
   "metadata": {},
   "outputs": [
    {
     "data": {
      "text/plain": [
       "False"
      ]
     },
     "execution_count": 116,
     "metadata": {},
     "output_type": "execute_result"
    }
   ],
   "source": [
    "scoops=[1,2,3,4,5]\n",
    "6 in scoops"
   ]
  },
  {
   "cell_type": "code",
   "execution_count": 117,
   "id": "6bc95a92-2257-467e-a563-2f5cd1790197",
   "metadata": {},
   "outputs": [
    {
     "data": {
      "text/plain": [
       "True"
      ]
     },
     "execution_count": 117,
     "metadata": {},
     "output_type": "execute_result"
    }
   ],
   "source": [
    "6 not in scoops"
   ]
  },
  {
   "cell_type": "code",
   "execution_count": 119,
   "id": "98b3b321-4a4d-49b0-8030-9d97e19ceabe",
   "metadata": {},
   "outputs": [
    {
     "name": "stdout",
     "output_type": "stream",
     "text": [
      "It worked!\n"
     ]
    }
   ],
   "source": [
    "#if , Elif, Else statements \n",
    "if 25 > 10:\n",
    "    print('It worked!')\n"
   ]
  },
  {
   "cell_type": "code",
   "execution_count": 120,
   "id": "08aabefe-6c83-4e67-a03b-9d95062c63a3",
   "metadata": {},
   "outputs": [],
   "source": [
    "if 25 < 10:\n",
    "    print('It worked!')"
   ]
  },
  {
   "cell_type": "code",
   "execution_count": 121,
   "id": "d7e8facf-d474-4f29-abf4-4b3fcb6514f4",
   "metadata": {},
   "outputs": [
    {
     "name": "stdout",
     "output_type": "stream",
     "text": [
      "It did not work...\n"
     ]
    }
   ],
   "source": [
    "if 25 < 10:\n",
    "    print('It worked!')\n",
    "else:\n",
    "    print('It did not work...')"
   ]
  },
  {
   "cell_type": "code",
   "execution_count": 122,
   "id": "35c38e22-b5ab-4005-b99d-8b3208ad9cc6",
   "metadata": {},
   "outputs": [
    {
     "name": "stdout",
     "output_type": "stream",
     "text": [
      "elif worked\n"
     ]
    }
   ],
   "source": [
    "if 25 < 10:\n",
    "    print('It worked!')\n",
    "elif 25<30:\n",
    "    print('elif worked')\n",
    "else:\n",
    "    print('It did not work...')"
   ]
  },
  {
   "cell_type": "code",
   "execution_count": 126,
   "id": "2502e6a2-0f6c-40bc-a844-b8b4800abbfb",
   "metadata": {},
   "outputs": [
    {
     "name": "stdout",
     "output_type": "stream",
     "text": [
      "elif 3 worked\n"
     ]
    }
   ],
   "source": [
    "if (25 < 10):\n",
    "    print('It worked!')\n",
    "elif 25<20:\n",
    "    print('elif worked')\n",
    "elif 25<21:\n",
    "    print('elif2 worked')\n",
    "elif 25<40:\n",
    "    print('elif 3 worked')\n",
    "elif 25<50:\n",
    "    print('elif4 worked')\n",
    "else:\n",
    "    print('It did not work...')"
   ]
  },
  {
   "cell_type": "code",
   "execution_count": null,
   "id": "cec1b271-6000-461c-8d1a-b98f27c9277f",
   "metadata": {},
   "outputs": [],
   "source": [
    "if (25 < 10) or (25>10):\n",
    "    print('It worked!')\n",
    "elif 25<20:\n",
    "    print('elif worked')\n",
    "elif 25<21:\n",
    "    print('elif2 worked')\n",
    "elif 25<40:\n",
    "    print('elif 3 worked')\n",
    "elif 25<50:\n",
    "    print('elif4 worked')\n",
    "else:\n",
    "    print('It did not work...')"
   ]
  },
  {
   "cell_type": "code",
   "execution_count": 128,
   "id": "3670231f-81d8-4ad6-b4b4-27fdf08b7dca",
   "metadata": {},
   "outputs": [
    {
     "name": "stdout",
     "output_type": "stream",
     "text": [
      "it did not worked....\n"
     ]
    }
   ],
   "source": [
    "print('it worked') if 10>30 else print('it did not worked....')"
   ]
  },
  {
   "cell_type": "code",
   "execution_count": 129,
   "id": "3638f92a-3a63-4eaa-a792-de33b5f4d10a",
   "metadata": {},
   "outputs": [
    {
     "name": "stdout",
     "output_type": "stream",
     "text": [
      "It worked!\n",
      "this nested if statement worked!\n"
     ]
    }
   ],
   "source": [
    "if (25 < 10) or (25>10):\n",
    "    print('It worked!')\n",
    "    if 10> 5 :\n",
    "        print('this nested if statement worked!')\n",
    "elif 25<20:\n",
    "    print('elif worked')\n",
    "elif 25<21:\n",
    "    print('elif2 worked')\n",
    "elif 25<40:\n",
    "    print('elif 3 worked')\n",
    "elif 25<50:\n",
    "    print('elif4 worked')\n",
    "else:\n",
    "    print('It did not work...')"
   ]
  },
  {
   "cell_type": "code",
   "execution_count": 130,
   "id": "d15c3c13-21e8-4f4a-9dbd-4a958edd2074",
   "metadata": {},
   "outputs": [
    {
     "name": "stdout",
     "output_type": "stream",
     "text": [
      "1\n",
      "2\n",
      "3\n",
      "4\n",
      "5\n"
     ]
    }
   ],
   "source": [
    "#for loops\n",
    "integers=[1,2,3,4,5]\n",
    "for number in integers:\n",
    "    print(number)"
   ]
  },
  {
   "cell_type": "code",
   "execution_count": 131,
   "id": "e6b38d27-3c38-4e7e-8f67-c36aa13a2c77",
   "metadata": {},
   "outputs": [
    {
     "name": "stdout",
     "output_type": "stream",
     "text": [
      "yep!\n",
      "yep!\n",
      "yep!\n",
      "yep!\n",
      "yep!\n"
     ]
    }
   ],
   "source": [
    "for number in integers:\n",
    "    print('yep!')"
   ]
  },
  {
   "cell_type": "code",
   "execution_count": null,
   "id": "5d63c765-053a-4874-9676-3afff0facef3",
   "metadata": {},
   "outputs": [],
   "source": [
    "integers=[1,2,3,4,5]"
   ]
  },
  {
   "cell_type": "code",
   "execution_count": 132,
   "id": "48ac5a89-1a32-475a-a947-bb98caa3c3d0",
   "metadata": {},
   "outputs": [
    {
     "name": "stdout",
     "output_type": "stream",
     "text": [
      "2\n",
      "4\n",
      "6\n",
      "8\n",
      "10\n"
     ]
    }
   ],
   "source": [
    "for Jelly in integers:\n",
    "    print(Jelly+Jelly)"
   ]
  },
  {
   "cell_type": "code",
   "execution_count": 135,
   "id": "afc36cd7-ccdd-4c92-a033-8bdb53375add",
   "metadata": {},
   "outputs": [],
   "source": [
    "ice_cream_dict={'name':'Hana Bitar', 'weekly intake':5,'favorite ice cream':['MMC','Chocolate']}"
   ]
  },
  {
   "cell_type": "code",
   "execution_count": 136,
   "id": "bebc571d-35f4-495a-beb5-ebaf0af60869",
   "metadata": {},
   "outputs": [
    {
     "name": "stdout",
     "output_type": "stream",
     "text": [
      "Hana Bitar\n",
      "5\n",
      "['MMC', 'Chocolate']\n"
     ]
    }
   ],
   "source": [
    "for cream in ice_cream_dict.values():\n",
    "    print(cream)"
   ]
  },
  {
   "cell_type": "code",
   "execution_count": 141,
   "id": "fa22ffb4-80e7-46ae-9e28-d9848fa6708a",
   "metadata": {},
   "outputs": [
    {
     "name": "stdout",
     "output_type": "stream",
     "text": [
      "name -> Hana Bitar\n",
      "weekly intake -> 5\n",
      "favorite ice cream -> ['MMC', 'Chocolate']\n"
     ]
    }
   ],
   "source": [
    "for key,value in ice_cream_dict.items():\n",
    "    print(key,'->',value)"
   ]
  },
  {
   "cell_type": "code",
   "execution_count": 146,
   "id": "54c6314a-3e3f-491c-8ff7-cb7ea5100c7d",
   "metadata": {},
   "outputs": [
    {
     "name": "stdout",
     "output_type": "stream",
     "text": [
      "('name', 'Hana Bitar')\n",
      "('weekly intake', 5)\n",
      "('favorite ice cream', ['MMC', 'Chocolate'])\n"
     ]
    }
   ],
   "source": [
    "for key in ice_cream_dict.items():\n",
    "    print(key)"
   ]
  },
  {
   "cell_type": "code",
   "execution_count": 147,
   "id": "a3030a1f-9fd5-4fe0-adc2-0595a915d608",
   "metadata": {},
   "outputs": [],
   "source": [
    "#Nested for loops\n",
    "flavors=['vanilla','chocolate','cookie dough']\n",
    "toppings=['hot fuge','oreos','mashmallows']"
   ]
  },
  {
   "cell_type": "code",
   "execution_count": 149,
   "id": "5b2bc2a1-180d-448f-a2c8-d810f080cedc",
   "metadata": {},
   "outputs": [
    {
     "name": "stdout",
     "output_type": "stream",
     "text": [
      "vanilla topped with hot fuge\n",
      "vanilla topped with oreos\n",
      "vanilla topped with mashmallows\n",
      "chocolate topped with hot fuge\n",
      "chocolate topped with oreos\n",
      "chocolate topped with mashmallows\n",
      "cookie dough topped with hot fuge\n",
      "cookie dough topped with oreos\n",
      "cookie dough topped with mashmallows\n"
     ]
    }
   ],
   "source": [
    "for one in flavors:\n",
    "    for two in toppings:\n",
    "        print(one,'topped with',two)"
   ]
  },
  {
   "cell_type": "code",
   "execution_count": 1,
   "id": "eaa56d42-0ad2-44e3-960c-cda08688b61e",
   "metadata": {},
   "outputs": [
    {
     "name": "stdout",
     "output_type": "stream",
     "text": [
      "0\n",
      "1\n",
      "2\n",
      "3\n",
      "4\n"
     ]
    }
   ],
   "source": [
    "number = 0\n",
    "while number < 5:\n",
    "    print(number)\n",
    "    number=number+1"
   ]
  },
  {
   "cell_type": "code",
   "execution_count": null,
   "id": "a3754c4a-a80c-449f-bc75-846f30604501",
   "metadata": {},
   "outputs": [],
   "source": [
    "number = 0\n",
    "while number < 5:\n",
    "    number = number +1\n",
    "    if number == 3:\n",
    "        continue\n",
    "        print(number)\n",
    "    else:\n",
    "        print('no longer<5')"
   ]
  },
  {
   "cell_type": "code",
   "execution_count": null,
   "id": "50a0f978-f4bb-460c-b232-d8277eb5e699",
   "metadata": {},
   "outputs": [],
   "source": []
  }
 ],
 "metadata": {
  "kernelspec": {
   "display_name": "Python 3 (ipykernel)",
   "language": "python",
   "name": "python3"
  },
  "language_info": {
   "codemirror_mode": {
    "name": "ipython",
    "version": 3
   },
   "file_extension": ".py",
   "mimetype": "text/x-python",
   "name": "python",
   "nbconvert_exporter": "python",
   "pygments_lexer": "ipython3",
   "version": "3.11.7"
  }
 },
 "nbformat": 4,
 "nbformat_minor": 5
}
