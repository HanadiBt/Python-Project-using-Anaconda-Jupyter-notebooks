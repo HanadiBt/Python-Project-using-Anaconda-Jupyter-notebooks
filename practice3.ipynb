{
 "cells": [
  {
   "cell_type": "code",
   "execution_count": 1,
   "id": "77f671ed-1a4a-46d8-b9ca-df584c405d1d",
   "metadata": {},
   "outputs": [
    {
     "name": "stdout",
     "output_type": "stream",
     "text": [
      "11\n"
     ]
    }
   ],
   "source": [
    "message='hello world'\n",
    "print(len(message))"
   ]
  },
  {
   "cell_type": "code",
   "execution_count": 2,
   "id": "ed932e3d-91ae-4b68-aa55-131116d18018",
   "metadata": {},
   "outputs": [
    {
     "name": "stdout",
     "output_type": "stream",
     "text": [
      "h\n"
     ]
    }
   ],
   "source": [
    "print(message[0])"
   ]
  },
  {
   "cell_type": "code",
   "execution_count": 3,
   "id": "55731fa3-3f88-4971-b848-21f3df8323ca",
   "metadata": {},
   "outputs": [
    {
     "name": "stdout",
     "output_type": "stream",
     "text": [
      "hello\n"
     ]
    }
   ],
   "source": [
    "print(message[0:5])"
   ]
  },
  {
   "cell_type": "code",
   "execution_count": 4,
   "id": "b31b6fe9-c13a-4214-b448-2d6cdb769c27",
   "metadata": {},
   "outputs": [
    {
     "name": "stdout",
     "output_type": "stream",
     "text": [
      "d\n"
     ]
    }
   ],
   "source": [
    "print(message[-1])"
   ]
  },
  {
   "cell_type": "code",
   "execution_count": 5,
   "id": "68b1bd85-f250-4926-ae9f-9f80c57ceb15",
   "metadata": {},
   "outputs": [
    {
     "name": "stdout",
     "output_type": "stream",
     "text": [
      "hello world\n"
     ]
    }
   ],
   "source": [
    "print(message.lower())"
   ]
  },
  {
   "cell_type": "code",
   "execution_count": 6,
   "id": "1728a7e5-387e-4118-ac85-493bb93b24ce",
   "metadata": {},
   "outputs": [
    {
     "name": "stdout",
     "output_type": "stream",
     "text": [
      "HELLO WORLD\n"
     ]
    }
   ],
   "source": [
    "print(message.upper())"
   ]
  },
  {
   "cell_type": "code",
   "execution_count": 9,
   "id": "b9c6f7a0-3b0d-4c97-894b-706a355692c3",
   "metadata": {},
   "outputs": [
    {
     "name": "stdout",
     "output_type": "stream",
     "text": [
      "3\n"
     ]
    }
   ],
   "source": [
    "print(message.count('l'))"
   ]
  },
  {
   "cell_type": "code",
   "execution_count": 10,
   "id": "69f9e107-0940-4176-95d8-f463fccba051",
   "metadata": {},
   "outputs": [
    {
     "name": "stdout",
     "output_type": "stream",
     "text": [
      "-1\n"
     ]
    }
   ],
   "source": [
    "print(message.find('i'))"
   ]
  },
  {
   "cell_type": "code",
   "execution_count": 11,
   "id": "90011ada-3402-4367-a3e4-efdc7879edf3",
   "metadata": {},
   "outputs": [
    {
     "ename": "NameError",
     "evalue": "name 'messgae' is not defined",
     "output_type": "error",
     "traceback": [
      "\u001b[0;31m---------------------------------------------------------------------------\u001b[0m",
      "\u001b[0;31mNameError\u001b[0m                                 Traceback (most recent call last)",
      "Cell \u001b[0;32mIn[11], line 1\u001b[0m\n\u001b[0;32m----> 1\u001b[0m messgae\u001b[38;5;241m.\u001b[39mreplace(\u001b[38;5;124m'\u001b[39m\u001b[38;5;124mworld\u001b[39m\u001b[38;5;124m'\u001b[39m,\u001b[38;5;124m'\u001b[39m\u001b[38;5;124muniverse\u001b[39m\u001b[38;5;124m'\u001b[39m)\n",
      "\u001b[0;31mNameError\u001b[0m: name 'messgae' is not defined"
     ]
    }
   ],
   "source": [
    "messgae.replace('world','universe')"
   ]
  },
  {
   "cell_type": "code",
   "execution_count": 12,
   "id": "4367111b-752c-4f20-ad25-f0b2dbbea0e6",
   "metadata": {},
   "outputs": [],
   "source": [
    "new_message=message.replace('world','universe')"
   ]
  },
  {
   "cell_type": "code",
   "execution_count": 13,
   "id": "dc9f6abc-4d1c-4b29-9840-15de4b65b775",
   "metadata": {},
   "outputs": [
    {
     "name": "stdout",
     "output_type": "stream",
     "text": [
      "hello universe\n"
     ]
    }
   ],
   "source": [
    "print(new_message)"
   ]
  },
  {
   "cell_type": "code",
   "execution_count": 14,
   "id": "5911ecdb-f82b-4abc-8cb8-6a33fb8b3858",
   "metadata": {},
   "outputs": [],
   "source": [
    "greeting='hello'\n",
    "name='Micheal'"
   ]
  },
  {
   "cell_type": "code",
   "execution_count": 19,
   "id": "b8071b8a-1bb5-4d7b-b510-400990400050",
   "metadata": {},
   "outputs": [],
   "source": [
    "message=greeting+' '+name +'.welcome!'"
   ]
  },
  {
   "cell_type": "code",
   "execution_count": 20,
   "id": "fa92ccc0-1a7a-413a-818d-9a9b1b7c9dfc",
   "metadata": {},
   "outputs": [
    {
     "name": "stdout",
     "output_type": "stream",
     "text": [
      "hello Micheal.welcome!\n"
     ]
    }
   ],
   "source": [
    "print(message)"
   ]
  },
  {
   "cell_type": "code",
   "execution_count": 21,
   "id": "9a461714-c425-4fe5-ad37-eb1076189d27",
   "metadata": {},
   "outputs": [],
   "source": [
    "message='{},{}.welcome!'.format(greeting,name)"
   ]
  },
  {
   "cell_type": "code",
   "execution_count": 22,
   "id": "812b6334-2293-4174-a5f9-3ed956612730",
   "metadata": {},
   "outputs": [
    {
     "name": "stdout",
     "output_type": "stream",
     "text": [
      "hello,Micheal.welcome!\n"
     ]
    }
   ],
   "source": [
    "print(message)"
   ]
  },
  {
   "cell_type": "code",
   "execution_count": 27,
   "id": "5c5130d0-485a-49cd-8752-30db0972a2ad",
   "metadata": {},
   "outputs": [
    {
     "ename": "SyntaxError",
     "evalue": "invalid syntax (3545159070.py, line 1)",
     "output_type": "error",
     "traceback": [
      "\u001b[0;36m  Cell \u001b[0;32mIn[27], line 1\u001b[0;36m\u001b[0m\n\u001b[0;31m    message=f_'{greeting},{name}.welcome!_'\u001b[0m\n\u001b[0m              ^\u001b[0m\n\u001b[0;31mSyntaxError\u001b[0m\u001b[0;31m:\u001b[0m invalid syntax\n"
     ]
    }
   ],
   "source": [
    "message=f_'{greeting},{name}.welcome!_'"
   ]
  },
  {
   "cell_type": "code",
   "execution_count": 24,
   "id": "7ceb27af-baef-42f7-8bd9-72fe56304c75",
   "metadata": {},
   "outputs": [
    {
     "name": "stdout",
     "output_type": "stream",
     "text": [
      "{greeting},{name}.welcome!\n"
     ]
    }
   ],
   "source": [
    "print(message)"
   ]
  },
  {
   "cell_type": "code",
   "execution_count": 28,
   "id": "cd189988-566d-470a-9a5e-e671f596f9f4",
   "metadata": {},
   "outputs": [
    {
     "name": "stdout",
     "output_type": "stream",
     "text": [
      "Help on built-in function print in module builtins:\n",
      "\n",
      "print(*args, sep=' ', end='\\n', file=None, flush=False)\n",
      "    Prints the values to a stream, or to sys.stdout by default.\n",
      "    \n",
      "    sep\n",
      "      string inserted between values, default a space.\n",
      "    end\n",
      "      string appended after the last value, default a newline.\n",
      "    file\n",
      "      a file-like object (stream); defaults to the current sys.stdout.\n",
      "    flush\n",
      "      whether to forcibly flush the stream.\n",
      "\n"
     ]
    }
   ],
   "source": [
    "help(print)"
   ]
  },
  {
   "cell_type": "code",
   "execution_count": 29,
   "id": "b053c34c-9408-4d9a-982f-f603d997bae6",
   "metadata": {},
   "outputs": [
    {
     "name": "stdout",
     "output_type": "stream",
     "text": [
      "1.5\n"
     ]
    }
   ],
   "source": [
    "print(3/2)"
   ]
  },
  {
   "cell_type": "code",
   "execution_count": 30,
   "id": "217c0548-8862-443e-b9d8-97674f7b01a5",
   "metadata": {},
   "outputs": [
    {
     "name": "stdout",
     "output_type": "stream",
     "text": [
      "1\n"
     ]
    }
   ],
   "source": [
    "print(3//2)"
   ]
  },
  {
   "cell_type": "code",
   "execution_count": 31,
   "id": "1d9bf672-1238-40d6-98cf-4aab63268a88",
   "metadata": {},
   "outputs": [
    {
     "name": "stdout",
     "output_type": "stream",
     "text": [
      "1\n"
     ]
    }
   ],
   "source": [
    "print(3%2)"
   ]
  },
  {
   "cell_type": "code",
   "execution_count": 33,
   "id": "e648fbad-1076-49eb-84fd-6c835e0471ad",
   "metadata": {},
   "outputs": [
    {
     "name": "stdout",
     "output_type": "stream",
     "text": [
      "0\n"
     ]
    }
   ],
   "source": [
    "print(3%3)"
   ]
  },
  {
   "cell_type": "raw",
   "id": "1e66d2d8-1018-4222-9a06-072fc1c82ad0",
   "metadata": {},
   "source": [
    "print(3**2)"
   ]
  },
  {
   "cell_type": "code",
   "execution_count": 34,
   "id": "d8cbb49f-162a-4ca7-a020-c5651f121c69",
   "metadata": {},
   "outputs": [
    {
     "name": "stdout",
     "output_type": "stream",
     "text": [
      "9\n"
     ]
    }
   ],
   "source": [
    "print(3 ** 2)"
   ]
  },
  {
   "cell_type": "code",
   "execution_count": 35,
   "id": "6cba89d3-dd8a-4b7f-a2e5-022e2aba5cb2",
   "metadata": {},
   "outputs": [
    {
     "name": "stdout",
     "output_type": "stream",
     "text": [
      "4\n"
     ]
    }
   ],
   "source": [
    "print(round(3.6))"
   ]
  },
  {
   "cell_type": "code",
   "execution_count": 36,
   "id": "f6dca9a6-109c-4aad-8925-2a095eefa0dd",
   "metadata": {},
   "outputs": [
    {
     "name": "stdout",
     "output_type": "stream",
     "text": [
      "3\n"
     ]
    }
   ],
   "source": [
    "print(round(3.2))"
   ]
  },
  {
   "cell_type": "code",
   "execution_count": 37,
   "id": "e6b165cb-46cc-4426-b873-f70f7e78a73f",
   "metadata": {},
   "outputs": [
    {
     "name": "stdout",
     "output_type": "stream",
     "text": [
      "False\n"
     ]
    }
   ],
   "source": [
    "print(3 == 2)"
   ]
  },
  {
   "cell_type": "code",
   "execution_count": 38,
   "id": "160fc880-2b35-48b0-a55f-9c61e3d1c0f2",
   "metadata": {},
   "outputs": [
    {
     "name": "stdout",
     "output_type": "stream",
     "text": [
      "1012\n"
     ]
    }
   ],
   "source": [
    "num_1='10'\n",
    "num_2='12'\n",
    "print(num_1+num_2)"
   ]
  },
  {
   "cell_type": "code",
   "execution_count": 39,
   "id": "adefc5ff-a368-4964-bb59-a32e2deeab0b",
   "metadata": {},
   "outputs": [
    {
     "name": "stdout",
     "output_type": "stream",
     "text": [
      "22\n"
     ]
    }
   ],
   "source": [
    "print(int(num_1)+int(num_2))"
   ]
  },
  {
   "cell_type": "code",
   "execution_count": 42,
   "id": "a0b2b413-e527-4b67-a536-695a78fd0d99",
   "metadata": {},
   "outputs": [],
   "source": [
    "courses=['history','math','physics','compsci']"
   ]
  },
  {
   "cell_type": "code",
   "execution_count": 43,
   "id": "49538789-6963-4353-9f0e-a44bf31e12d8",
   "metadata": {},
   "outputs": [
    {
     "name": "stdout",
     "output_type": "stream",
     "text": [
      "compsci\n"
     ]
    }
   ],
   "source": [
    "print(courses[-1])"
   ]
  },
  {
   "cell_type": "code",
   "execution_count": 44,
   "id": "5ed41490-890b-4b85-9971-ad3110aeb516",
   "metadata": {},
   "outputs": [],
   "source": [
    "courses.append('art')"
   ]
  },
  {
   "cell_type": "code",
   "execution_count": 45,
   "id": "c235f521-c19b-418b-835d-42469e614ed8",
   "metadata": {},
   "outputs": [
    {
     "name": "stdout",
     "output_type": "stream",
     "text": [
      "['history', 'math', 'physics', 'compsci', 'art']\n"
     ]
    }
   ],
   "source": [
    "print(courses)"
   ]
  },
  {
   "cell_type": "code",
   "execution_count": 46,
   "id": "44345847-861e-4b3a-b13c-d558204dbb41",
   "metadata": {},
   "outputs": [],
   "source": [
    "courses.insert(0,'musci')"
   ]
  },
  {
   "cell_type": "code",
   "execution_count": 47,
   "id": "d3097e87-fcb3-44ed-9dbb-bab304dd8ce2",
   "metadata": {},
   "outputs": [
    {
     "name": "stdout",
     "output_type": "stream",
     "text": [
      "['musci', 'history', 'math', 'physics', 'compsci', 'art']\n"
     ]
    }
   ],
   "source": [
    "print(courses)"
   ]
  },
  {
   "cell_type": "code",
   "execution_count": 48,
   "id": "91ddb134-515f-4776-8cf5-ea3182d22b3b",
   "metadata": {},
   "outputs": [],
   "source": [
    "courses_1=['m','m1']"
   ]
  },
  {
   "cell_type": "code",
   "execution_count": 49,
   "id": "b6ff2933-ccb9-4be3-b4e2-b030f075ef29",
   "metadata": {},
   "outputs": [],
   "source": [
    "courses.extend(courses_1)"
   ]
  },
  {
   "cell_type": "code",
   "execution_count": 50,
   "id": "34f7ac5a-5ac2-473e-ae44-47a53714ab53",
   "metadata": {},
   "outputs": [
    {
     "name": "stdout",
     "output_type": "stream",
     "text": [
      "['musci', 'history', 'math', 'physics', 'compsci', 'art', 'm', 'm1']\n"
     ]
    }
   ],
   "source": [
    "print(courses)"
   ]
  },
  {
   "cell_type": "code",
   "execution_count": 51,
   "id": "2f57144a-16c3-4eb3-b437-16d9b333bd2f",
   "metadata": {},
   "outputs": [],
   "source": [
    "courses.remove('math')"
   ]
  },
  {
   "cell_type": "code",
   "execution_count": 52,
   "id": "9581207a-de39-4da1-9e89-94d1bd5a9940",
   "metadata": {},
   "outputs": [
    {
     "name": "stdout",
     "output_type": "stream",
     "text": [
      "['musci', 'history', 'physics', 'compsci', 'art', 'm', 'm1']\n"
     ]
    }
   ],
   "source": [
    "print(courses)"
   ]
  },
  {
   "cell_type": "code",
   "execution_count": 54,
   "id": "e08b87e2-e1f0-4e22-9a89-2a7551010235",
   "metadata": {},
   "outputs": [],
   "source": [
    "courses.remove('m')"
   ]
  },
  {
   "cell_type": "raw",
   "id": "ce152885-e2d0-48ae-9448-355af1aa90f0",
   "metadata": {},
   "source": [
    "print(courses)"
   ]
  },
  {
   "cell_type": "code",
   "execution_count": 55,
   "id": "772b7def-3657-42ac-ab8c-87964e6a2eab",
   "metadata": {},
   "outputs": [
    {
     "name": "stdout",
     "output_type": "stream",
     "text": [
      "m1\n"
     ]
    }
   ],
   "source": [
    "popped=courses.pop()\n",
    "print(popped)"
   ]
  },
  {
   "cell_type": "code",
   "execution_count": 56,
   "id": "4673ed4f-1c9f-4397-a7cd-4d581c350f54",
   "metadata": {},
   "outputs": [],
   "source": [
    "courses=['history','math','physics','compsci']"
   ]
  },
  {
   "cell_type": "code",
   "execution_count": 57,
   "id": "adb2aa4f-3b91-443e-823d-d98f229345a5",
   "metadata": {},
   "outputs": [],
   "source": [
    "courses.reverse()"
   ]
  },
  {
   "cell_type": "raw",
   "id": "85833b60-c970-40d9-8e45-efa49a10d73c",
   "metadata": {},
   "source": [
    "print(courses)"
   ]
  },
  {
   "cell_type": "code",
   "execution_count": 58,
   "id": "9c00a8a4-c1c6-4086-aea6-9880b4eee75a",
   "metadata": {},
   "outputs": [],
   "source": [
    "courses.sort()"
   ]
  },
  {
   "cell_type": "code",
   "execution_count": null,
   "id": "6c85427e-47f6-494d-bab9-4bcd919039a9",
   "metadata": {},
   "outputs": [],
   "source": [
    "##course.reverse()\n",
    "print(course)\n",
    "['physics', 'art', 'math']\n",
    "num=[1,5,3,6]\n",
    "num.sort()\n",
    "print(num)\n",
    "[1, 3, 5, 6]\n",
    "course.sort()\n",
    "print(course)\n",
    "['art', 'math', 'physics']"
   ]
  },
  {
   "cell_type": "code",
   "execution_count": 59,
   "id": "29bdfe81-3987-40f3-a57d-ea69dae887b6",
   "metadata": {},
   "outputs": [],
   "source": [
    "num=[1,6,8,3]"
   ]
  },
  {
   "cell_type": "code",
   "execution_count": 60,
   "id": "68b2a3de-3910-47b2-8591-8502c559a069",
   "metadata": {},
   "outputs": [
    {
     "name": "stdout",
     "output_type": "stream",
     "text": [
      "8\n"
     ]
    }
   ],
   "source": [
    "print(max(num))"
   ]
  },
  {
   "cell_type": "code",
   "execution_count": null,
   "id": "f5dada18-de3c-47c5-bcf4-7cd85d9d22a3",
   "metadata": {},
   "outputs": [],
   "source": []
  }
 ],
 "metadata": {
  "kernelspec": {
   "display_name": "Python 3 (ipykernel)",
   "language": "python",
   "name": "python3"
  },
  "language_info": {
   "codemirror_mode": {
    "name": "ipython",
    "version": 3
   },
   "file_extension": ".py",
   "mimetype": "text/x-python",
   "name": "python",
   "nbconvert_exporter": "python",
   "pygments_lexer": "ipython3",
   "version": "3.11.7"
  }
 },
 "nbformat": 4,
 "nbformat_minor": 5
}
